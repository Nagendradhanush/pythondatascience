{
  "nbformat": 4,
  "nbformat_minor": 0,
  "metadata": {
    "colab": {
      "provenance": []
    },
    "kernelspec": {
      "name": "python3",
      "display_name": "Python 3"
    },
    "language_info": {
      "name": "python"
    }
  },
  "cells": [
    {
      "cell_type": "markdown",
      "source": [
        "*** USE THE CONCEPT OF LOOPS TO SOLVE THE BELOW PROGRAMS***"
      ],
      "metadata": {
        "id": "LntIlHO5OfPf"
      }
    },
    {
      "cell_type": "markdown",
      "source": [
        "1) Python program to count the total number of digits in a number.\n",
        "\n",
        "TAKE THE INPUT NUMBER : 123456\n",
        "\n",
        "\n",
        "\n"
      ],
      "metadata": {
        "id": "vxHfbNtoOfRV"
      }
    },
    {
      "cell_type": "code",
      "source": [
        "n=123456\n",
        "dig=0\n",
        "while(n!=0):\n",
        "  n=int(n/10)\n",
        "  dig+=1\n",
        "print(dig)"
      ],
      "metadata": {
        "id": "_PKg5umLO2-q",
        "colab": {
          "base_uri": "https://localhost:8080/"
        },
        "outputId": "cce02709-6dfb-4f65-e6cf-4e23d52755df"
      },
      "execution_count": 6,
      "outputs": [
        {
          "output_type": "stream",
          "name": "stdout",
          "text": [
            "6\n"
          ]
        }
      ]
    },
    {
      "cell_type": "markdown",
      "source": [
        "2) Python program to count the number of even and odd numbers from a series of numbers.\n",
        "\n",
        "num_list = [1,3,5,6,99,134,55]"
      ],
      "metadata": {
        "id": "bXf8Z8feOfTn"
      }
    },
    {
      "cell_type": "code",
      "source": [
        "num_list = [1,3,5,6,99,134,55]\n",
        "e=0\n",
        "for i in num_list:\n",
        "  if(i%2==0):\n",
        "    e+=1\n",
        "print(\"even=\",e)\n",
        "print(\"odd=\",len(num_list)-e)"
      ],
      "metadata": {
        "id": "QzZjjwRCPIip",
        "colab": {
          "base_uri": "https://localhost:8080/"
        },
        "outputId": "a2c433b1-0c2f-48da-e255-82b53dfa1afb"
      },
      "execution_count": 9,
      "outputs": [
        {
          "output_type": "stream",
          "name": "stdout",
          "text": [
            "even= 2\n",
            "odd= 5\n"
          ]
        }
      ]
    },
    {
      "cell_type": "markdown",
      "source": [
        "3) Python program to get the Fibonacci series between 0 to 50."
      ],
      "metadata": {
        "id": "Ae6CdE7hOfWZ"
      }
    },
    {
      "cell_type": "code",
      "source": [
        "fn=0\n",
        "sn=1\n",
        "temp=sn\n",
        "print(fn)\n",
        "while(sn<=50):\n",
        "  print(sn)\n",
        "  sn=fn+sn\n",
        "  fn=temp\n",
        "  temp=sn"
      ],
      "metadata": {
        "id": "_IIZYCLPPTwI",
        "colab": {
          "base_uri": "https://localhost:8080/"
        },
        "outputId": "8dac9be4-fef3-4230-9d3f-412e0db3da06"
      },
      "execution_count": 11,
      "outputs": [
        {
          "output_type": "stream",
          "name": "stdout",
          "text": [
            "0\n",
            "1\n",
            "1\n",
            "2\n",
            "3\n",
            "5\n",
            "8\n",
            "13\n",
            "21\n",
            "34\n"
          ]
        }
      ]
    },
    {
      "cell_type": "markdown",
      "source": [
        "4) Python program that accepts a string and calculates the number of digits and letters.\n",
        "\n",
        "Input\n",
        "\n",
        "WEBBLINDERS1234"
      ],
      "metadata": {
        "id": "VYbquVMROfZz"
      }
    },
    {
      "cell_type": "code",
      "source": [
        "inp=input()\n",
        "l=len(inp)\n",
        "nd=0\n",
        "nl=0\n",
        "for i in range(0,l):\n",
        "  if(inp[i].isdigit()):\n",
        "    nd+=1\n",
        "  elif(inp[i].isalpha()):\n",
        "    nl+=1\n",
        "print(\"digits:\",nd)\n",
        "print(\"letters:\",nl)\n"
      ],
      "metadata": {
        "id": "iGYeja7XPop3",
        "colab": {
          "base_uri": "https://localhost:8080/"
        },
        "outputId": "b7743b53-58ef-42b2-e702-be71063b0328"
      },
      "execution_count": 14,
      "outputs": [
        {
          "output_type": "stream",
          "name": "stdout",
          "text": [
            "WEBBLINDERS1234\n",
            "digits: 4\n",
            "letters: 11\n"
          ]
        }
      ]
    },
    {
      "cell_type": "markdown",
      "source": [
        "5) Python program to display all numbers within a range except the prime numbers.\n",
        "\n",
        "INPUT RANGE : 30 TO 80"
      ],
      "metadata": {
        "id": "RiVenPeDPqs_"
      }
    },
    {
      "cell_type": "code",
      "source": [
        "def factors(i):\n",
        "  f=0\n",
        "  for j in range(1,i+1):\n",
        "    if(i%j==0):\n",
        "      f+=1\n",
        "  return f\n",
        "for i in range(30,81):\n",
        "  if(factors(i)>2):\n",
        "    print(i)"
      ],
      "metadata": {
        "id": "UTm21ayAPX02",
        "colab": {
          "base_uri": "https://localhost:8080/"
        },
        "outputId": "1ddc8947-26d0-44e2-eda6-2983296e7d69"
      },
      "execution_count": 10,
      "outputs": [
        {
          "output_type": "stream",
          "name": "stdout",
          "text": [
            "30\n",
            "32\n",
            "33\n",
            "34\n",
            "35\n",
            "36\n",
            "38\n",
            "39\n",
            "40\n",
            "42\n",
            "44\n",
            "45\n",
            "46\n",
            "48\n",
            "49\n",
            "50\n",
            "51\n",
            "52\n",
            "54\n",
            "55\n",
            "56\n",
            "57\n",
            "58\n",
            "60\n",
            "62\n",
            "63\n",
            "64\n",
            "65\n",
            "66\n",
            "68\n",
            "69\n",
            "70\n",
            "72\n",
            "74\n",
            "75\n",
            "76\n",
            "77\n",
            "78\n",
            "80\n"
          ]
        }
      ]
    }
  ]
}