{
  "nbformat": 4,
  "nbformat_minor": 0,
  "metadata": {
    "colab": {
      "provenance": []
    },
    "kernelspec": {
      "name": "python3",
      "display_name": "Python 3"
    },
    "language_info": {
      "name": "python"
    }
  },
  "cells": [
    {
      "cell_type": "markdown",
      "source": [
        "1.Write a Python program to count the number of vowels in a string.\n",
        "\n",
        "input : hasdfgeuionhjl"
      ],
      "metadata": {
        "id": "q8RkYTES1QUW"
      }
    },
    {
      "cell_type": "code",
      "source": [
        "inp=\"hasdfgeuionhjl\"\n",
        "c=0\n",
        "for i in inp:\n",
        "  if(i in 'aeiouAEIOU'):\n",
        "    c+=1\n",
        "c"
      ],
      "metadata": {
        "id": "UHi6ezjV1X0s",
        "colab": {
          "base_uri": "https://localhost:8080/"
        },
        "outputId": "dff5f396-9765-4270-84f3-4a2df214773f"
      },
      "execution_count": 1,
      "outputs": [
        {
          "output_type": "execute_result",
          "data": {
            "text/plain": [
              "5"
            ]
          },
          "metadata": {},
          "execution_count": 1
        }
      ]
    },
    {
      "cell_type": "markdown",
      "source": [
        "2.Write a Python program to count the occurrences of each word in a sentence.\n",
        "\n",
        "input : hi hello hi and and hi more and more programming"
      ],
      "metadata": {
        "id": "v7GBEK161QWy"
      }
    },
    {
      "cell_type": "code",
      "source": [
        "inp=\"hi hello hi and and hi more and more programming\"\n",
        "s=inp.split(' ')\n",
        "c={}\n",
        "for i in s:\n",
        "  if(i in c.keys()):\n",
        "    c[i]+=1\n",
        "  else:\n",
        "    c[i]=1\n",
        "print(c)"
      ],
      "metadata": {
        "id": "R-UzDybK1uZo",
        "colab": {
          "base_uri": "https://localhost:8080/"
        },
        "outputId": "85976bf2-a43d-4b93-f247-1df3cff0ddcd"
      },
      "execution_count": 2,
      "outputs": [
        {
          "output_type": "stream",
          "name": "stdout",
          "text": [
            "{'hi': 3, 'hello': 1, 'and': 3, 'more': 2, 'programming': 1}\n"
          ]
        }
      ]
    },
    {
      "cell_type": "markdown",
      "source": [
        "3.In python how can you differentiate strings and lists. Give atleast 5 different comparisons between them."
      ],
      "metadata": {
        "id": "evCcw-0H1QY9"
      }
    },
    {
      "cell_type": "markdown",
      "source": [
        "Answer:\n",
        "definition:\n",
        "string means a sequence of characters(digits,symbols and aplhabets).\n",
        "list means a contiguous sequence of items(strings,integeres,float,bool etc)\n",
        "\n",
        "Mutablity: string are immutable.\n",
        "           lists are mutable.\n",
        "\n",
        "Accessing: while accessing it returns a string type only.\n",
        "           while accessed it returs the element of that type only.\n",
        "        \n",
        "Methods: strings-Text-related methods (e.g., upper(), split())\n",
        "         List-related methods (e.g., append(), pop())\n",
        "           "
      ],
      "metadata": {
        "id": "OfiTI0pv1QbU"
      }
    },
    {
      "cell_type": "markdown",
      "source": [
        "4.Write a string for your own of approximately 40 in length and perform any 5 different string operations on that."
      ],
      "metadata": {
        "id": "riR1PWxG1Qdq"
      }
    },
    {
      "cell_type": "code",
      "source": [
        "str='he went to tirumala tirupati devasthanam'\n",
        "#slicing\n",
        "print(str[11:19])\n",
        "#reverse printing\n",
        "print(str[::-1])\n",
        "#to upper\n",
        "print(str.upper())\n",
        "#to lower\n",
        "print(str.lower())\n",
        "#concatenation\n",
        "print(str+' for darshan.')"
      ],
      "metadata": {
        "id": "3bHyrDS12e8i",
        "colab": {
          "base_uri": "https://localhost:8080/"
        },
        "outputId": "54ef0407-8c6b-4d50-e375-f4fd468593b7"
      },
      "execution_count": 12,
      "outputs": [
        {
          "output_type": "stream",
          "name": "stdout",
          "text": [
            "tirumala\n",
            "manahtsaved itapurit alamurit ot tnew eh\n",
            "HE WENT TO TIRUMALA TIRUPATI DEVASTHANAM\n",
            "he went to tirumala tirupati devasthanam\n",
            "he went to tirumala tirupati devasthanam for darshan.\n"
          ]
        }
      ]
    },
    {
      "cell_type": "markdown",
      "source": [
        "5.Explain the concatination in strings with a neat example."
      ],
      "metadata": {
        "id": "bbUm7VVN1Qfu"
      }
    },
    {
      "cell_type": "code",
      "source": [
        "#concatenation of strings\n",
        "#as they are immutable while concatenating a new string is generated\n",
        "#using '+'\n",
        "str1=\"hello \"\n",
        "str2=\"welcome\"\n",
        "str3=str1+str2\n",
        "print(str3)\n",
        "#using '*'\n",
        "print(str1*2+str2*1)"
      ],
      "metadata": {
        "id": "y9292Q452tF0",
        "colab": {
          "base_uri": "https://localhost:8080/"
        },
        "outputId": "dad6d9e6-d5da-45a6-c060-a21b2e31558d"
      },
      "execution_count": 15,
      "outputs": [
        {
          "output_type": "stream",
          "name": "stdout",
          "text": [
            "hello welcome\n",
            "hello hello welcome\n"
          ]
        }
      ]
    },
    {
      "cell_type": "code",
      "source": [],
      "metadata": {
        "id": "vnMNtJgq2xuG"
      },
      "execution_count": null,
      "outputs": []
    }
  ]
}