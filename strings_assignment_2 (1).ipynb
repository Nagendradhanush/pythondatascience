{
  "nbformat": 4,
  "nbformat_minor": 0,
  "metadata": {
    "colab": {
      "provenance": [],
      "toc_visible": true
    },
    "kernelspec": {
      "name": "python3",
      "display_name": "Python 3"
    },
    "language_info": {
      "name": "python"
    }
  },
  "cells": [
    {
      "cell_type": "markdown",
      "source": [
        "## Strings Assignment 2"
      ],
      "metadata": {
        "id": "EPGLodluvWuN"
      }
    },
    {
      "cell_type": "markdown",
      "source": [
        "1.Write a Python program to reverse a string.\n",
        "\n",
        "input : hellohowareyoudoingandhowisyourhealth"
      ],
      "metadata": {
        "id": "ddM5gMtivkoi"
      }
    },
    {
      "cell_type": "code",
      "source": [
        "str=\"hellohowareyoudoingandhowisyourhealth\"\n",
        "n=len(str)\n",
        "rev=\"\"\n",
        "for i in range(0,n):\n",
        "  rev+=str[n-i-1]\n",
        "print(rev)\n"
      ],
      "metadata": {
        "id": "RnP576ZZvtLH",
        "colab": {
          "base_uri": "https://localhost:8080/"
        },
        "outputId": "bf978a15-4740-4b39-d4f2-ea3dcb957b4d"
      },
      "execution_count": 3,
      "outputs": [
        {
          "output_type": "stream",
          "name": "stdout",
          "text": [
            "htlaehruoysiwohdnagnioduoyerawoholleh\n"
          ]
        }
      ]
    },
    {
      "cell_type": "markdown",
      "source": [
        "2.Write a Python program to capitalize the first letter of each word in a sentence.\n",
        "\n",
        "input : hello welcome to internship"
      ],
      "metadata": {
        "id": "jEVFoo3evnhr"
      }
    },
    {
      "cell_type": "code",
      "source": [
        "str=\"hello welcome to internship\"\n",
        "s=\"\"\n",
        "for i in range(len(str)):\n",
        "  if(i==0 or str[i-1]==' '):\n",
        "    s+=str[i].upper()\n",
        "  else:\n",
        "    s+=str[i]\n",
        "print(s)"
      ],
      "metadata": {
        "id": "CTP3QwiGwT93",
        "colab": {
          "base_uri": "https://localhost:8080/"
        },
        "outputId": "1b58ddfe-25b2-4932-b757-8a274d2524a2"
      },
      "execution_count": 4,
      "outputs": [
        {
          "output_type": "stream",
          "name": "stdout",
          "text": [
            "Hello Welcome To Internship\n"
          ]
        }
      ]
    },
    {
      "cell_type": "markdown",
      "source": [
        "3.Write a Python program to find the longest word in a sentence.\n",
        "\n",
        "input : \"he is very good at painting and paint good sketches\""
      ],
      "metadata": {
        "id": "LiGvyCoVvnyC"
      }
    },
    {
      "cell_type": "code",
      "source": [
        "str=\"he is very good at painting and paint good sketches\"\n",
        "lc=0\n",
        "c=0\n",
        "for i in range(0,len(str)):\n",
        "  if(str[i]==' '):\n",
        "    if(lc<c):\n",
        "      lc=c\n",
        "    c=0\n",
        "  c+=1\n",
        "if(lc<c):\n",
        "  lc=c\n",
        "print(c-1)"
      ],
      "metadata": {
        "id": "clATuC3cwwPI",
        "colab": {
          "base_uri": "https://localhost:8080/"
        },
        "outputId": "6cf6dbe6-c00c-4062-f5ff-e0ce4b34b9cd"
      },
      "execution_count": 18,
      "outputs": [
        {
          "output_type": "stream",
          "name": "stdout",
          "text": [
            "8\n"
          ]
        }
      ]
    },
    {
      "cell_type": "markdown",
      "source": [
        "4.Write a Python program to find the length of the last word in a sentence.\n",
        "\n",
        "input : this is the most beautiful beach I ever visited"
      ],
      "metadata": {
        "id": "-QhCplQjvn0w"
      }
    },
    {
      "cell_type": "code",
      "source": [
        "str=\"this is the most beautiful beach I ever visited\"\n",
        "c=0\n",
        "for i in range(0,len(str)):\n",
        "  if(str[i]==' '):\n",
        "    c=0\n",
        "  c+=1\n",
        "print(c-1)"
      ],
      "metadata": {
        "id": "QwzbahlkxGZ-",
        "colab": {
          "base_uri": "https://localhost:8080/"
        },
        "outputId": "61bce611-3660-40c9-ab3d-c1643b3ec426"
      },
      "execution_count": 19,
      "outputs": [
        {
          "output_type": "stream",
          "name": "stdout",
          "text": [
            "7\n"
          ]
        }
      ]
    },
    {
      "cell_type": "markdown",
      "source": [
        "5.Write a Python program to find the second most frequent character in a string.\n",
        "\n",
        "input: the hospital is very big and this hospital has so many doctors"
      ],
      "metadata": {
        "id": "cZiXxZhsvn6q"
      }
    },
    {
      "cell_type": "code",
      "source": [
        "l=0\n",
        "str=\"the hospital is very big and this hospital has so many doctors\"\n",
        "a=\"abcdefghijklmnopqrstuvwxyz\"\n",
        "for i in a:\n",
        "  if(str.count(i)>l):\n",
        "    l=str.count(i)\n",
        "l"
      ],
      "metadata": {
        "id": "EnHquuoCxi7F",
        "colab": {
          "base_uri": "https://localhost:8080/"
        },
        "outputId": "07eaa127-b109-4bee-f5ae-b48f497128b0"
      },
      "execution_count": 15,
      "outputs": [
        {
          "output_type": "execute_result",
          "data": {
            "text/plain": [
              "7"
            ]
          },
          "metadata": {},
          "execution_count": 15
        }
      ]
    }
  ]
}